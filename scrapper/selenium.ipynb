{
 "cells": [
  {
   "cell_type": "code",
   "execution_count": null,
   "metadata": {},
   "outputs": [],
   "source": [
    "!pip install selenium"
   ]
  },
  {
   "cell_type": "code",
   "execution_count": null,
   "metadata": {},
   "outputs": [],
   "source": [
    "from selenium import webdriver\n",
    "# from time import sleep\n",
    "\n",
    "options = webdriver.ChromeOptions()\n",
    "options.binary_location = r\"C:\\Program Files (x86)\\Google\\Chrome Beta\\Application\\chrome.exe\"\n",
    "chrome_driver_path = r\"C:\\Program Files (x86)\\Google\\Chrome Beta\\Application\\chromedriver.exe\"\n",
    "browser = webdriver.Chrome(chrome_driver_path, chrome_options=options)\n",
    "\n",
    "list_ville = [330063,330039,330318,330281,330522,330550,330249,330119,330075,330056,330162,330192]\n",
    "\n",
    "for id_ville in range(len(list_ville)):\n",
    "    for i in range(1, 100):\n",
    "        browser.get(f'https://seloger.com/list.htm?tri=initial&enterprise=0&idtypebien=2,1&idtt=1&naturebien=1&ci={list_ville[id_ville]}&LISTING-LISTpg={i}')\n",
    "        elements = browser.find_elements_by_class_name('CoveringLink-a3s3kt-0')\n",
    "\n",
    "        y = 1\n",
    "        for e in list(elements):\n",
    "            if (y % 2) != 0:\n",
    "                e.click()\n",
    "                print(browser.window_handles)\n",
    "                window_before = browser.window_handles[0]\n",
    "                try:\n",
    "                    window_after = browser.window_handles[1]\n",
    "                except:\n",
    "                    continue\n",
    "\n",
    "                browser.switch_to.window(window_after)\n",
    "\n",
    "                code_source = browser.page_source\n",
    "                with open(f'./data/page{list_ville[id_ville]}-{i}-{y}.html', 'wb') as f:\n",
    "                    f.write(code_source.encode('utf-8'))\n",
    "\n",
    "                browser.close()\n",
    "                browser.switch_to.window(window_before)\n",
    "            y += 1"
   ]
  }
 ],
 "metadata": {
  "kernelspec": {
   "display_name": "Python 3",
   "language": "python",
   "name": "python3"
  },
  "language_info": {
   "codemirror_mode": {
    "name": "ipython",
    "version": 3
   },
   "file_extension": ".py",
   "mimetype": "text/x-python",
   "name": "python",
   "nbconvert_exporter": "python",
   "pygments_lexer": "ipython3",
   "version": "3.7.1"
  }
 },
 "nbformat": 4,
 "nbformat_minor": 2
}
