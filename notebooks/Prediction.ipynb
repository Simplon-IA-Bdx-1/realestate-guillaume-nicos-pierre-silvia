{
 "cells": [
  {
   "cell_type": "markdown",
   "metadata": {
    "toc": true
   },
   "source": [
    "<h1>Table of Contents<span class=\"tocSkip\"></span></h1>\n",
    "<div class=\"toc\"><ul class=\"toc-item\"></ul></div>"
   ]
  },
  {
   "cell_type": "code",
   "execution_count": null,
   "metadata": {},
   "outputs": [],
   "source": [
    "import joblib\n",
    "import pickle\n",
    "from pandas import DataFrame\n",
    "from glob import glob\n",
    "from os import path, getcwd"
   ]
  },
  {
   "cell_type": "code",
   "execution_count": null,
   "metadata": {},
   "outputs": [],
   "source": [
    "base_dir = path.dirname(getcwd())\n",
    "model_dir = base_dir + '/models'\n",
    "file_path = max(glob(path.join(model_dir, 'realestate-model-*.pkl')))\n",
    "file_path"
   ]
  },
  {
   "cell_type": "code",
   "execution_count": null,
   "metadata": {},
   "outputs": [],
   "source": [
    "model = joblib.load(file_path)"
   ]
  },
  {
   "cell_type": "code",
   "execution_count": null,
   "metadata": {},
   "outputs": [],
   "source": [
    "columns = ['typedebien', 'codepostal', 'idtypechauffage', 'idtypecuisine',\n",
    "           'si_balcon', 'nb_chambres', 'nb_pieces', 'si_sdbain', 'si_sdEau',\n",
    "           'etage', 'surface', 'dpeC']\n",
    "input_list = ['Appartement', 33000,'électrique', 'équipée', 1, 1, 1, 1, 0, 2, 20, 200]\n",
    "values = DataFrame(data=[input_list],columns=columns)\n",
    "model.predict(values)"
   ]
  },
  {
   "cell_type": "code",
   "execution_count": null,
   "metadata": {},
   "outputs": [],
   "source": [
    "input_dict = {'typedebien': ['Appartement'],\n",
    "              'codepostal':[33000],\n",
    "              'idtypechauffage':['électrique'],\n",
    "              'idtypecuisine':['équipée'],\n",
    "              'si_balcon':[1], \n",
    "              'nb_chambres':[2], \n",
    "              'nb_pieces':[1], \n",
    "              'si_sdbain':[1], \n",
    "              'si_sdEau':[0],\n",
    "              'etage':[2], \n",
    "              'surface':[30], \n",
    "              'dpeC':[200]}\n",
    "\n",
    "values = DataFrame.from_dict(input_dict)\n",
    "model.predict(values)"
   ]
  },
  {
   "cell_type": "code",
   "execution_count": null,
   "metadata": {},
   "outputs": [],
   "source": []
  }
 ],
 "metadata": {
  "kernelspec": {
   "display_name": "Python 3",
   "language": "python",
   "name": "python3"
  },
  "language_info": {
   "codemirror_mode": {
    "name": "ipython",
    "version": 3
   },
   "file_extension": ".py",
   "mimetype": "text/x-python",
   "name": "python",
   "nbconvert_exporter": "python",
   "pygments_lexer": "ipython3",
   "version": "3.7.5"
  },
  "toc": {
   "base_numbering": 1,
   "nav_menu": {},
   "number_sections": true,
   "sideBar": false,
   "skip_h1_title": false,
   "title_cell": "Table of Contents",
   "title_sidebar": "Contents",
   "toc_cell": true,
   "toc_position": {
    "height": "653px",
    "left": "28px",
    "top": "110px",
    "width": "384px"
   },
   "toc_section_display": true,
   "toc_window_display": false
  }
 },
 "nbformat": 4,
 "nbformat_minor": 2
}
