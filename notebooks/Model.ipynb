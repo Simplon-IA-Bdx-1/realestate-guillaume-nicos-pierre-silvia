{
 "cells": [
  {
   "cell_type": "markdown",
   "metadata": {},
   "source": [
    "# Model"
   ]
  },
  {
   "cell_type": "markdown",
   "metadata": {
    "toc": true
   },
   "source": [
    "<h1>Table of Contents<span class=\"tocSkip\"></span></h1>\n",
    "<div class=\"toc\"><ul class=\"toc-item\"><li><span><a href=\"#Cleaning\" data-toc-modified-id=\"Cleaning-1\"><span class=\"toc-item-num\">1&nbsp;&nbsp;</span>Cleaning</a></span></li><li><span><a href=\"#Pipeline\" data-toc-modified-id=\"Pipeline-2\"><span class=\"toc-item-num\">2&nbsp;&nbsp;</span>Pipeline</a></span><ul class=\"toc-item\"><li><span><a href=\"#Categorical-features\" data-toc-modified-id=\"Categorical-features-2.1\"><span class=\"toc-item-num\">2.1&nbsp;&nbsp;</span>Categorical features</a></span></li><li><span><a href=\"#Binary-features\" data-toc-modified-id=\"Binary-features-2.2\"><span class=\"toc-item-num\">2.2&nbsp;&nbsp;</span>Binary features</a></span></li><li><span><a href=\"#Numerical-features\" data-toc-modified-id=\"Numerical-features-2.3\"><span class=\"toc-item-num\">2.3&nbsp;&nbsp;</span>Numerical features</a></span></li><li><span><a href=\"#preprocessing-pipe\" data-toc-modified-id=\"preprocessing-pipe-2.4\"><span class=\"toc-item-num\">2.4&nbsp;&nbsp;</span>preprocessing pipe</a></span></li><li><span><a href=\"#output-processing\" data-toc-modified-id=\"output-processing-2.5\"><span class=\"toc-item-num\">2.5&nbsp;&nbsp;</span>output processing</a></span></li><li><span><a href=\"#regression-model\" data-toc-modified-id=\"regression-model-2.6\"><span class=\"toc-item-num\">2.6&nbsp;&nbsp;</span>regression model</a></span></li></ul></li><li><span><a href=\"#Training-and-evaluation\" data-toc-modified-id=\"Training-and-evaluation-3\"><span class=\"toc-item-num\">3&nbsp;&nbsp;</span>Training and evaluation</a></span><ul class=\"toc-item\"><li><span><a href=\"#Mean-regressor-baseline\" data-toc-modified-id=\"Mean-regressor-baseline-3.1\"><span class=\"toc-item-num\">3.1&nbsp;&nbsp;</span>Mean regressor baseline</a></span></li><li><span><a href=\"#Cross-validation\" data-toc-modified-id=\"Cross-validation-3.2\"><span class=\"toc-item-num\">3.2&nbsp;&nbsp;</span>Cross validation</a></span></li><li><span><a href=\"#Valid-evaluation\" data-toc-modified-id=\"Valid-evaluation-3.3\"><span class=\"toc-item-num\">3.3&nbsp;&nbsp;</span>Valid evaluation</a></span></li><li><span><a href=\"#Train-evaluation\" data-toc-modified-id=\"Train-evaluation-3.4\"><span class=\"toc-item-num\">3.4&nbsp;&nbsp;</span>Train evaluation</a></span></li><li><span><a href=\"#Error-analysis\" data-toc-modified-id=\"Error-analysis-3.5\"><span class=\"toc-item-num\">3.5&nbsp;&nbsp;</span>Error analysis</a></span><ul class=\"toc-item\"><li><span><a href=\"#over-estimated\" data-toc-modified-id=\"over-estimated-3.5.1\"><span class=\"toc-item-num\">3.5.1&nbsp;&nbsp;</span>over estimated</a></span></li><li><span><a href=\"#under-estimated\" data-toc-modified-id=\"under-estimated-3.5.2\"><span class=\"toc-item-num\">3.5.2&nbsp;&nbsp;</span>under estimated</a></span></li></ul></li></ul></li><li><span><a href=\"#export-model\" data-toc-modified-id=\"export-model-4\"><span class=\"toc-item-num\">4&nbsp;&nbsp;</span>export model</a></span></li></ul></div>"
   ]
  },
  {
   "cell_type": "code",
   "execution_count": 1,
   "metadata": {},
   "outputs": [],
   "source": [
    "from pandas import DataFrame, read_csv\n",
    "from sklearn.pipeline import Pipeline\n",
    "from sklearn.impute import SimpleImputer\n",
    "from sklearn.preprocessing import (StandardScaler, LabelEncoder, PolynomialFeatures,\n",
    "                                   OneHotEncoder, OrdinalEncoder, FunctionTransformer,\n",
    "                                   PowerTransformer)\n",
    "from sklearn.compose import ColumnTransformer, TransformedTargetRegressor\n",
    "from sklearn.linear_model import Ridge\n",
    "from xgboost import XGBRegressor\n",
    "from sklearn.svm import SVR\n",
    "from sklearn.metrics import r2_score, mean_squared_error\n",
    "from sklearn.model_selection import cross_val_score\n",
    "from joblib import dump, load\n",
    "import seaborn as sns\n",
    "import matplotlib.pyplot as plt\n",
    "from datetime import datetime\n",
    "\n",
    "import numpy as np"
   ]
  },
  {
   "cell_type": "code",
   "execution_count": 2,
   "metadata": {},
   "outputs": [],
   "source": [
    "SEED=42"
   ]
  },
  {
   "cell_type": "code",
   "execution_count": 3,
   "metadata": {},
   "outputs": [],
   "source": [
    "#!../scrapper/scrapper.py csv --file ./fulltrain.csv"
   ]
  },
  {
   "cell_type": "code",
   "execution_count": 3,
   "metadata": {},
   "outputs": [],
   "source": [
    "df_full = read_csv('../fulltrain.csv', index_col='idannonce')"
   ]
  },
  {
   "cell_type": "markdown",
   "metadata": {},
   "source": [
    "## Cleaning"
   ]
  },
  {
   "cell_type": "code",
   "execution_count": 4,
   "metadata": {},
   "outputs": [
    {
     "data": {
      "text/plain": [
       "Index(['typedebien', 'codepostal', 'codeinsee', 'ville', 'idtypechauffage',\n",
       "       'idtypecuisine', 'si_balcon', 'nb_chambres', 'nb_pieces', 'si_sdbain',\n",
       "       'si_sdEau', 'nb_photos', 'etage', 'prix', 'surface', 'dpeL', 'dpeC',\n",
       "       'description', 'id'],\n",
       "      dtype='object')"
      ]
     },
     "execution_count": 4,
     "metadata": {},
     "output_type": "execute_result"
    }
   ],
   "source": [
    "df_full.columns"
   ]
  },
  {
   "cell_type": "code",
   "execution_count": 5,
   "metadata": {},
   "outputs": [],
   "source": [
    "chauffageNArows = df_full['idtypechauffage'] == 0\n",
    "df_full.loc[chauffageNArows,'idtypechauffage'] = np.nan"
   ]
  },
  {
   "cell_type": "code",
   "execution_count": 6,
   "metadata": {},
   "outputs": [],
   "source": [
    "codpostal33rows = df_full['codepostal'] == 33\n",
    "df_full.loc[codpostal33rows,'codepostal'] = 33000"
   ]
  },
  {
   "cell_type": "code",
   "execution_count": 7,
   "metadata": {},
   "outputs": [],
   "source": [
    "cuisineNArows = df_full['idtypecuisine'] == 0\n",
    "df_full.loc[cuisineNArows,'idtypecuisine'] = np.nan"
   ]
  },
  {
   "cell_type": "code",
   "execution_count": 8,
   "metadata": {},
   "outputs": [],
   "source": [
    "df_full['surface'] = df_full['surface'].str.replace(\",\", \".\").astype(float)"
   ]
  },
  {
   "cell_type": "code",
   "execution_count": 9,
   "metadata": {},
   "outputs": [],
   "source": [
    "nonzero_surface = df_full['surface'] != 0\n",
    "df_full = df_full.loc[nonzero_surface,:]"
   ]
  },
  {
   "cell_type": "code",
   "execution_count": 10,
   "metadata": {},
   "outputs": [
    {
     "name": "stderr",
     "output_type": "stream",
     "text": [
      "C:\\Users\\Utilisateur\\Anaconda3\\envs\\machinelearning\\lib\\site-packages\\pandas\\core\\strings.py:1843: UserWarning: This pattern has match groups. To actually get the groups, use str.extract.\n",
      "  return func(self, *args, **kwargs)\n"
     ]
    }
   ],
   "source": [
    "notcolocation_rows = ~(df_full['description'].str.contains(\"([Cc]oloc)\")).astype('Bool')\n",
    "df_full = df_full.loc[notcolocation_rows,:]"
   ]
  },
  {
   "cell_type": "code",
   "execution_count": 11,
   "metadata": {},
   "outputs": [],
   "source": [
    "df_full = df_full.drop(['id','ville', 'codeinsee','nb_photos', 'dpeL', 'description'], axis=1)"
   ]
  },
  {
   "cell_type": "code",
   "execution_count": 12,
   "metadata": {},
   "outputs": [
    {
     "data": {
      "text/plain": [
       "Index(['typedebien', 'codepostal', 'idtypechauffage', 'idtypecuisine',\n",
       "       'si_balcon', 'nb_chambres', 'nb_pieces', 'si_sdbain', 'si_sdEau',\n",
       "       'etage', 'prix', 'surface', 'dpeC'],\n",
       "      dtype='object')"
      ]
     },
     "execution_count": 12,
     "metadata": {},
     "output_type": "execute_result"
    }
   ],
   "source": [
    "df_full.columns"
   ]
  },
  {
   "cell_type": "code",
   "execution_count": 13,
   "metadata": {},
   "outputs": [
    {
     "data": {
      "text/plain": [
       "(985, 13)"
      ]
     },
     "execution_count": 13,
     "metadata": {},
     "output_type": "execute_result"
    }
   ],
   "source": [
    "df_full.shape"
   ]
  },
  {
   "cell_type": "code",
   "execution_count": 14,
   "metadata": {},
   "outputs": [],
   "source": [
    "#df_full.to_csv('dataset_clean.csv', header=True, index_label=id)"
   ]
  },
  {
   "cell_type": "markdown",
   "metadata": {},
   "source": [
    "## Pipeline"
   ]
  },
  {
   "cell_type": "code",
   "execution_count": 15,
   "metadata": {},
   "outputs": [],
   "source": [
    "#categoricals = ['typedebien', 'ville','idtypechauffage', 'idtypecuisine','codepostal','codeinsee']\n",
    "categoricals = ['typedebien', 'idtypechauffage', 'idtypecuisine', 'codepostal']\n",
    "binaries = ['si_balcon','si_sdbain','si_sdEau']\n",
    "#numericals = ['nb_chambres', 'nb_pieces', 'nb_photos', 'etage', 'surface', 'dpeC']\n",
    "numericals = ['nb_chambres', 'nb_pieces', 'etage', 'surface', 'dpeC']\n",
    "text = ['description']"
   ]
  },
  {
   "cell_type": "markdown",
   "metadata": {},
   "source": [
    "### Categorical features"
   ]
  },
  {
   "cell_type": "code",
   "execution_count": 16,
   "metadata": {},
   "outputs": [
    {
     "name": "stdout",
     "output_type": "stream",
     "text": [
      "['Appartement' 'Maison / Villa']\n",
      "['gaz collectif' 'individuel électrique radiateur' '0'\n",
      " 'individuel électrique' 'individuel' 'individuel gaz radiateur' 'central'\n",
      " 'individuel gaz' 'central radiateur' 'électrique radiateur' 'gaz'\n",
      " 'électrique' 'gaz radiateur' 'gaz collectif radiateur'\n",
      " 'individuel radiateur' 'central électrique radiateur'\n",
      " 'central électrique' 'climatisation réversible' 'gaz collectif mixte'\n",
      " 'central électrique mixte' 'climatisation réversible individuelle'\n",
      " 'individuel fuel radiateur' 'radiateur' 'central fuel']\n",
      "['0' 'aucune' 'américaine' 'équipée' 'coin cuisine' 'américaine équipée'\n",
      " 'coin cuisine équipé' 'séparée équipée' 'séparée']\n",
      "[33000 33700 33140 33400 33600 33150 33300 33310 33800 33130 33200 33100\n",
      " 33520 33880]\n"
     ]
    }
   ],
   "source": [
    "for col in categoricals:\n",
    "    print(df_full[col].unique())"
   ]
  },
  {
   "cell_type": "code",
   "execution_count": 17,
   "metadata": {},
   "outputs": [],
   "source": [
    "categorical_pipe = Pipeline([\n",
    "    ('imputer', SimpleImputer(strategy='most_frequent')),\n",
    "    ('onehot', OneHotEncoder(handle_unknown=\"ignore\"))\n",
    "])"
   ]
  },
  {
   "cell_type": "markdown",
   "metadata": {},
   "source": [
    "### Binary features"
   ]
  },
  {
   "cell_type": "code",
   "execution_count": 18,
   "metadata": {},
   "outputs": [
    {
     "name": "stdout",
     "output_type": "stream",
     "text": [
      "[0 1]\n",
      "[1 0]\n",
      "[0 1]\n"
     ]
    }
   ],
   "source": [
    "for col in binaries:\n",
    "    print(df_full[col].unique())"
   ]
  },
  {
   "cell_type": "code",
   "execution_count": 19,
   "metadata": {},
   "outputs": [],
   "source": [
    "binary_pipe = Pipeline([\n",
    "    ('imputer', SimpleImputer(strategy='most_frequent'))\n",
    "])"
   ]
  },
  {
   "cell_type": "markdown",
   "metadata": {},
   "source": [
    "### Numerical features"
   ]
  },
  {
   "cell_type": "code",
   "execution_count": 20,
   "metadata": {},
   "outputs": [],
   "source": [
    "numerical_pipe = Pipeline([\n",
    "    ('imputer', SimpleImputer(strategy='mean')),\n",
    "    #('poly', PolynomialFeatures(degree=2)),\n",
    "    ('power',  PowerTransformer()),\n",
    "    #('scaler', StandardScaler())\n",
    "])"
   ]
  },
  {
   "cell_type": "markdown",
   "metadata": {},
   "source": [
    "### Preprocessing pipe"
   ]
  },
  {
   "cell_type": "code",
   "execution_count": 21,
   "metadata": {},
   "outputs": [],
   "source": [
    "preprocess_pipe = ColumnTransformer([\n",
    "    ('cat', categorical_pipe, categoricals),\n",
    "    ('num', numerical_pipe, numericals),\n",
    "    ('ord', binary_pipe, binaries)\n",
    "])"
   ]
  },
  {
   "cell_type": "markdown",
   "metadata": {},
   "source": [
    "### Output processing"
   ]
  },
  {
   "cell_type": "code",
   "execution_count": 22,
   "metadata": {},
   "outputs": [],
   "source": [
    "output_pipe = Pipeline([\n",
    "    ('log', FunctionTransformer(func=np.log, inverse_func=np.exp)),\n",
    "    ('scaler', StandardScaler())\n",
    "])"
   ]
  },
  {
   "cell_type": "markdown",
   "metadata": {},
   "source": [
    "### Regression model"
   ]
  },
  {
   "cell_type": "code",
   "execution_count": 23,
   "metadata": {},
   "outputs": [],
   "source": [
    "rdgRegressor = Ridge()\n",
    "xgbRegressor = XGBRegressor(booster=\"gbtree\")\n",
    "svrRegressor = SVR(kernel='rbf', C=0.8)"
   ]
  },
  {
   "cell_type": "code",
   "execution_count": 24,
   "metadata": {},
   "outputs": [],
   "source": [
    "model = Pipeline([\n",
    "    ('pre', preprocess_pipe),\n",
    "    ('reg', svrRegressor)\n",
    "])"
   ]
  },
  {
   "cell_type": "code",
   "execution_count": 25,
   "metadata": {},
   "outputs": [],
   "source": [
    "full_pipe = TransformedTargetRegressor(regressor=model, transformer=output_pipe)"
   ]
  },
  {
   "cell_type": "code",
   "execution_count": 26,
   "metadata": {},
   "outputs": [
    {
     "data": {
      "text/plain": [
       "['pipeline-model.joblib']"
      ]
     },
     "execution_count": 26,
     "metadata": {},
     "output_type": "execute_result"
    }
   ],
   "source": [
    "dump(full_pipe,'pipeline-model.joblib')"
   ]
  },
  {
   "cell_type": "code",
   "execution_count": 27,
   "metadata": {},
   "outputs": [],
   "source": [
    "from sklearn.model_selection import train_test_split\n",
    "target_column = \"prix\"\n",
    "\n",
    "X_fulltrain = df_full.drop(target_column, axis=1)\n",
    "y_fulltrain = df_full[target_column]\n",
    "\n",
    "X_train, X_valid, y_train, y_valid = train_test_split(X_fulltrain, y_fulltrain, test_size=0.2, random_state=SEED)"
   ]
  },
  {
   "cell_type": "markdown",
   "metadata": {},
   "source": [
    "## Training and evaluation"
   ]
  },
  {
   "cell_type": "code",
   "execution_count": 28,
   "metadata": {},
   "outputs": [],
   "source": [
    "full_pipe.fit(X_train,y_train);"
   ]
  },
  {
   "cell_type": "markdown",
   "metadata": {},
   "source": [
    "### Mean regressor baseline"
   ]
  },
  {
   "cell_type": "code",
   "execution_count": 29,
   "metadata": {},
   "outputs": [
    {
     "name": "stdout",
     "output_type": "stream",
     "text": [
      "r2 = -0.017899090662610417\n",
      "rmse = 408.044461132066\n",
      "msle = 0.16392636904079003\n",
      "rmsle = 0.4048782150731131\n",
      "mape = 0.33354337920666205\n"
     ]
    }
   ],
   "source": [
    "y_valid_pred = [np.mean(y_train)] * y_valid.shape[0]\n",
    "r2 = r2_score(y_valid, y_valid_pred)\n",
    "rmse = np.sqrt(mean_squared_error(y_valid, y_valid_pred))\n",
    "rmsle = np.sqrt(mean_squared_error(np.log(y_valid), np.log(y_valid_pred)))\n",
    "msle = (mean_squared_error(np.log(y_valid), np.log(y_valid_pred)))\n",
    "mape = np.mean(np.abs((y_valid-y_valid_pred)/y_valid))\n",
    "print(f'r2 = {r2}\\nrmse = {rmse}\\nmsle = {msle}\\nrmsle = {rmsle}\\nmape = {mape}')"
   ]
  },
  {
   "cell_type": "markdown",
   "metadata": {},
   "source": [
    "### Cross validation"
   ]
  },
  {
   "cell_type": "code",
   "execution_count": 30,
   "metadata": {},
   "outputs": [
    {
     "name": "stdout",
     "output_type": "stream",
     "text": [
      "mean R2 = 0.7310847168563857 +/- 0.07025143923759271\n"
     ]
    },
    {
     "data": {
      "text/plain": [
       "array([0.7183198 , 0.60007198, 0.84031084, 0.6940753 , 0.77924497,\n",
       "       0.66473237, 0.77047159, 0.67189172, 0.80761907, 0.76410953])"
      ]
     },
     "execution_count": 30,
     "metadata": {},
     "output_type": "execute_result"
    }
   ],
   "source": [
    "scores = cross_val_score(full_pipe, X_fulltrain, y=y_fulltrain, cv=10)\n",
    "print(f'mean R2 = {np.mean(scores)} +/- {np.std(scores)}')\n",
    "scores"
   ]
  },
  {
   "cell_type": "markdown",
   "metadata": {},
   "source": [
    "### Valid evaluation"
   ]
  },
  {
   "cell_type": "code",
   "execution_count": 31,
   "metadata": {},
   "outputs": [
    {
     "name": "stdout",
     "output_type": "stream",
     "text": [
      "r2 = 0.7902464763162983\n",
      "rmse = 185.22933029574412\n",
      "msle = 0.0348181284600918\n",
      "rmsle = 0.1865961641087292\n",
      "mape = 0.13760951611992114\n"
     ]
    },
    {
     "data": {
      "image/png": "[encoded data removed]",
      "text/plain": [
       "<Figure size 432x432 with 3 Axes>"
      ]
     },
     "metadata": {
      "needs_background": "light"
     },
     "output_type": "display_data"
    }
   ],
   "source": [
    "y_valid_pred = full_pipe.predict(X_valid)\n",
    "valid_r2 = r2_score(y_valid, y_valid_pred)\n",
    "valid_rmse = np.sqrt(mean_squared_error(y_valid, y_valid_pred))\n",
    "valid_rmsle = np.sqrt(mean_squared_error(np.log(y_valid), np.log(y_valid_pred)))\n",
    "valid_msle = (mean_squared_error(np.log(y_valid), np.log(y_valid_pred)))\n",
    "valid_mape = np.mean(np.abs((y_valid-y_valid_pred)/y_valid))\n",
    "print(f'r2 = {valid_r2}\\nrmse = {valid_rmse}\\nmsle = {valid_msle}\\nrmsle = {valid_rmsle}\\nmape = {valid_mape}')\n",
    "grid = sns.JointGrid(y_valid, y_valid_pred)\n",
    "grid = grid.plot(sns.regplot, sns.distplot)\n",
    "grid.ax_joint.plot([0,2500], [0,2500], 'r');"
   ]
  },
  {
   "cell_type": "markdown",
   "metadata": {},
   "source": [
    "### Train evaluation"
   ]
  },
  {
   "cell_type": "code",
   "execution_count": 32,
   "metadata": {},
   "outputs": [
    {
     "name": "stdout",
     "output_type": "stream",
     "text": [
      "r2 = 0.7942845901074798\n",
      "rmse = 174.74736126719827\n",
      "msle = 0.021085100219695094\n",
      "rmsle = 0.14520709424713069\n",
      "mape = 0.09403549502795705\n"
     ]
    },
    {
     "data": {
      "image/png": "[encoded data removed]",
      "text/plain": [
       "<Figure size 432x432 with 3 Axes>"
      ]
     },
     "metadata": {
      "needs_background": "light"
     },
     "output_type": "display_data"
    }
   ],
   "source": [
    "y_train_pred = full_pipe.predict(X_train)\n",
    "r2 = r2_score(y_train, y_train_pred)\n",
    "rmse = np.sqrt(mean_squared_error(y_train, y_train_pred))\n",
    "rmsle = np.sqrt(mean_squared_error(np.log(y_train), np.log(y_train_pred)))\n",
    "msle = (mean_squared_error(np.log(y_train), np.log(y_train_pred)))\n",
    "mape = np.mean(np.abs((y_train-y_train_pred)/y_train))\n",
    "print(f'r2 = {r2}\\nrmse = {rmse}\\nmsle = {msle}\\nrmsle = {rmsle}\\nmape = {mape}')\n",
    "grid = sns.JointGrid(y_train, y_train_pred)\n",
    "grid = grid.plot(sns.regplot, sns.distplot)\n",
    "grid.ax_joint.plot([0,2500], [0,2500], 'r');"
   ]
  },
  {
   "cell_type": "markdown",
   "metadata": {},
   "source": [
    "### Error analysis"
   ]
  },
  {
   "cell_type": "code",
   "execution_count": 33,
   "metadata": {},
   "outputs": [
    {
     "data": {
      "image/png": "[encoded data removed]",
      "text/plain": [
       "<Figure size 432x432 with 3 Axes>"
      ]
     },
     "metadata": {
      "needs_background": "light"
     },
     "output_type": "display_data"
    }
   ],
   "source": [
    "grid = sns.JointGrid(y_valid, (y_valid_pred-y_valid)/y_valid )\n",
    "grid = grid.plot(sns.regplot, sns.distplot)\n",
    "grid.ax_joint.plot([0,2500], [0,0], 'r');"
   ]
  },
  {
   "cell_type": "markdown",
   "metadata": {},
   "source": [
    "#### Over estimated"
   ]
  },
  {
   "cell_type": "code",
   "execution_count": 34,
   "metadata": {
    "scrolled": true
   },
   "outputs": [
    {
     "name": "stderr",
     "output_type": "stream",
     "text": [
      "C:\\Users\\Utilisateur\\Anaconda3\\envs\\machinelearning\\lib\\site-packages\\pandas\\core\\indexing.py:376: SettingWithCopyWarning: \n",
      "A value is trying to be set on a copy of a slice from a DataFrame.\n",
      "Try using .loc[row_indexer,col_indexer] = value instead\n",
      "\n",
      "See the caveats in the documentation: http://pandas.pydata.org/pandas-docs/stable/user_guide/indexing.html#returning-a-view-versus-a-copy\n",
      "  self.obj[key] = _infer_fill_value(value)\n",
      "C:\\Users\\Utilisateur\\Anaconda3\\envs\\machinelearning\\lib\\site-packages\\pandas\\core\\indexing.py:494: SettingWithCopyWarning: \n",
      "A value is trying to be set on a copy of a slice from a DataFrame.\n",
      "Try using .loc[row_indexer,col_indexer] = value instead\n",
      "\n",
      "See the caveats in the documentation: http://pandas.pydata.org/pandas-docs/stable/user_guide/indexing.html#returning-a-view-versus-a-copy\n",
      "  self.obj[item] = s\n"
     ]
    },
    {
     "data": {
      "text/html": [
       "<div>\n",
       "<style scoped>\n",
       "    .dataframe tbody tr th:only-of-type {\n",
       "        vertical-align: middle;\n",
       "    }\n",
       "\n",
       "    .dataframe tbody tr th {\n",
       "        vertical-align: top;\n",
       "    }\n",
       "\n",
       "    .dataframe thead th {\n",
       "        text-align: right;\n",
       "    }\n",
       "</style>\n",
       "<table border=\"1\" class=\"dataframe\">\n",
       "  <thead>\n",
       "    <tr style=\"text-align: right;\">\n",
       "      <th></th>\n",
       "      <th>typedebien</th>\n",
       "      <th>codepostal</th>\n",
       "      <th>idtypechauffage</th>\n",
       "      <th>idtypecuisine</th>\n",
       "      <th>si_balcon</th>\n",
       "      <th>nb_chambres</th>\n",
       "      <th>nb_pieces</th>\n",
       "      <th>si_sdbain</th>\n",
       "      <th>si_sdEau</th>\n",
       "      <th>etage</th>\n",
       "      <th>surface</th>\n",
       "      <th>dpeC</th>\n",
       "      <th>prix</th>\n",
       "      <th>pred</th>\n",
       "    </tr>\n",
       "    <tr>\n",
       "      <th>idannonce</th>\n",
       "      <th></th>\n",
       "      <th></th>\n",
       "      <th></th>\n",
       "      <th></th>\n",
       "      <th></th>\n",
       "      <th></th>\n",
       "      <th></th>\n",
       "      <th></th>\n",
       "      <th></th>\n",
       "      <th></th>\n",
       "      <th></th>\n",
       "      <th></th>\n",
       "      <th></th>\n",
       "      <th></th>\n",
       "    </tr>\n",
       "  </thead>\n",
       "  <tbody>\n",
       "    <tr>\n",
       "      <th>155430409</th>\n",
       "      <td>Appartement</td>\n",
       "      <td>33600</td>\n",
       "      <td>individuel gaz radiateur</td>\n",
       "      <td>équipée</td>\n",
       "      <td>0</td>\n",
       "      <td>0</td>\n",
       "      <td>2</td>\n",
       "      <td>1</td>\n",
       "      <td>0</td>\n",
       "      <td>0</td>\n",
       "      <td>121.0</td>\n",
       "      <td>215</td>\n",
       "      <td>430</td>\n",
       "      <td>768.770295</td>\n",
       "    </tr>\n",
       "  </tbody>\n",
       "</table>\n",
       "</div>"
      ],
      "text/plain": [
       "            typedebien  codepostal           idtypechauffage idtypecuisine  \\\n",
       "idannonce                                                                    \n",
       "155430409  Appartement       33600  individuel gaz radiateur       équipée   \n",
       "\n",
       "           si_balcon  nb_chambres  nb_pieces  si_sdbain  si_sdEau  etage  \\\n",
       "idannonce                                                                  \n",
       "155430409          0            0          2          1         0      0   \n",
       "\n",
       "           surface  dpeC  prix        pred  \n",
       "idannonce                                   \n",
       "155430409    121.0   215   430  768.770295  "
      ]
     },
     "execution_count": 34,
     "metadata": {},
     "output_type": "execute_result"
    }
   ],
   "source": [
    "errors = ((y_valid_pred-y_valid)/y_valid) > 0.5\n",
    "error_df = X_valid.loc[errors,:]\n",
    "error_df.loc[errors,'prix'] = y_valid.loc[errors]\n",
    "error_df.loc[errors,'pred'] = y_valid_pred[errors]\n",
    "error_df"
   ]
  },
  {
   "cell_type": "markdown",
   "metadata": {},
   "source": [
    "#### Under estimated"
   ]
  },
  {
   "cell_type": "code",
   "execution_count": 35,
   "metadata": {},
   "outputs": [
    {
     "data": {
      "text/html": [
       "<div>\n",
       "<style scoped>\n",
       "    .dataframe tbody tr th:only-of-type {\n",
       "        vertical-align: middle;\n",
       "    }\n",
       "\n",
       "    .dataframe tbody tr th {\n",
       "        vertical-align: top;\n",
       "    }\n",
       "\n",
       "    .dataframe thead th {\n",
       "        text-align: right;\n",
       "    }\n",
       "</style>\n",
       "<table border=\"1\" class=\"dataframe\">\n",
       "  <thead>\n",
       "    <tr style=\"text-align: right;\">\n",
       "      <th></th>\n",
       "      <th>typedebien</th>\n",
       "      <th>codepostal</th>\n",
       "      <th>idtypechauffage</th>\n",
       "      <th>idtypecuisine</th>\n",
       "      <th>si_balcon</th>\n",
       "      <th>nb_chambres</th>\n",
       "      <th>nb_pieces</th>\n",
       "      <th>si_sdbain</th>\n",
       "      <th>si_sdEau</th>\n",
       "      <th>etage</th>\n",
       "      <th>surface</th>\n",
       "      <th>dpeC</th>\n",
       "      <th>prix</th>\n",
       "      <th>pred</th>\n",
       "    </tr>\n",
       "    <tr>\n",
       "      <th>idannonce</th>\n",
       "      <th></th>\n",
       "      <th></th>\n",
       "      <th></th>\n",
       "      <th></th>\n",
       "      <th></th>\n",
       "      <th></th>\n",
       "      <th></th>\n",
       "      <th></th>\n",
       "      <th></th>\n",
       "      <th></th>\n",
       "      <th></th>\n",
       "      <th></th>\n",
       "      <th></th>\n",
       "      <th></th>\n",
       "    </tr>\n",
       "  </thead>\n",
       "  <tbody>\n",
       "    <tr>\n",
       "      <th>152551285</th>\n",
       "      <td>Appartement</td>\n",
       "      <td>33000</td>\n",
       "      <td>individuel électrique radiateur</td>\n",
       "      <td>équipée</td>\n",
       "      <td>0</td>\n",
       "      <td>1</td>\n",
       "      <td>2</td>\n",
       "      <td>0</td>\n",
       "      <td>1</td>\n",
       "      <td>2</td>\n",
       "      <td>45.3</td>\n",
       "      <td>0</td>\n",
       "      <td>1500</td>\n",
       "      <td>775.012639</td>\n",
       "    </tr>\n",
       "    <tr>\n",
       "      <th>145612541</th>\n",
       "      <td>Appartement</td>\n",
       "      <td>33000</td>\n",
       "      <td>central</td>\n",
       "      <td>séparée</td>\n",
       "      <td>0</td>\n",
       "      <td>1</td>\n",
       "      <td>2</td>\n",
       "      <td>0</td>\n",
       "      <td>1</td>\n",
       "      <td>3</td>\n",
       "      <td>55.0</td>\n",
       "      <td>0</td>\n",
       "      <td>1560</td>\n",
       "      <td>861.611788</td>\n",
       "    </tr>\n",
       "    <tr>\n",
       "      <th>155587787</th>\n",
       "      <td>Appartement</td>\n",
       "      <td>33800</td>\n",
       "      <td>0</td>\n",
       "      <td>coin cuisine</td>\n",
       "      <td>1</td>\n",
       "      <td>0</td>\n",
       "      <td>1</td>\n",
       "      <td>1</td>\n",
       "      <td>0</td>\n",
       "      <td>2</td>\n",
       "      <td>23.0</td>\n",
       "      <td>80</td>\n",
       "      <td>849</td>\n",
       "      <td>498.545291</td>\n",
       "    </tr>\n",
       "  </tbody>\n",
       "</table>\n",
       "</div>"
      ],
      "text/plain": [
       "            typedebien  codepostal                  idtypechauffage  \\\n",
       "idannonce                                                             \n",
       "152551285  Appartement       33000  individuel électrique radiateur   \n",
       "145612541  Appartement       33000                          central   \n",
       "155587787  Appartement       33800                                0   \n",
       "\n",
       "          idtypecuisine  si_balcon  nb_chambres  nb_pieces  si_sdbain  \\\n",
       "idannonce                                                               \n",
       "152551285       équipée          0            1          2          0   \n",
       "145612541       séparée          0            1          2          0   \n",
       "155587787  coin cuisine          1            0          1          1   \n",
       "\n",
       "           si_sdEau  etage  surface  dpeC  prix        pred  \n",
       "idannonce                                                    \n",
       "152551285         1      2     45.3     0  1500  775.012639  \n",
       "145612541         1      3     55.0     0  1560  861.611788  \n",
       "155587787         0      2     23.0    80   849  498.545291  "
      ]
     },
     "execution_count": 35,
     "metadata": {},
     "output_type": "execute_result"
    }
   ],
   "source": [
    "errors = (y_valid_pred-y_valid)/y_valid < -0.4\n",
    "error_df = X_valid.loc[errors,:]\n",
    "error_df.loc[errors,'prix'] = y_valid.loc[errors]\n",
    "error_df.loc[errors,'pred'] = y_valid_pred[errors]\n",
    "error_df"
   ]
  },
  {
   "cell_type": "markdown",
   "metadata": {},
   "source": [
    "## Export model"
   ]
  },
  {
   "cell_type": "code",
   "execution_count": 37,
   "metadata": {},
   "outputs": [
    {
     "data": {
      "text/plain": [
       "'C:\\\\Users\\\\utilisateur\\\\Documents\\\\GitHub\\\\realestate-guillaume-nicos-pierre-silvia/models\\\\realestate-model-2020-18-03-16h21s-rmsle-0.197.pkl'"
      ]
     },
     "execution_count": 37,
     "metadata": {},
     "output_type": "execute_result"
    }
   ],
   "source": [
    "from os import getcwd, mkdir, path\n",
    "now =  datetime.now()\n",
    "model_file_name = 'realestate-model-' + now.strftime(\"%Y-%d-%m-%Hh%Ms\") + '-rmsle-' + '{:.3f}'.format(valid_rmsle) + '.pkl'\n",
    "base_dir = path.dirname(getcwd())\n",
    "model_dir = base_dir + '/models'\n",
    "if not path.exists(model_dir):\n",
    "    mkdir(model_dir)\n",
    "model_path = path.join(model_dir, model_file_name)\n",
    "model_path"
   ]
  },
  {
   "cell_type": "code",
   "execution_count": 38,
   "metadata": {},
   "outputs": [
    {
     "data": {
      "text/plain": [
       "['C:\\\\Users\\\\utilisateur\\\\Documents\\\\GitHub\\\\realestate-guillaume-nicos-pierre-silvia/models\\\\realestate-model-2020-18-03-16h21s-rmsle-0.197.pkl']"
      ]
     },
     "execution_count": 38,
     "metadata": {},
     "output_type": "execute_result"
    }
   ],
   "source": [
    "dump(full_pipe, model_path)"
   ]
  },
  {
   "cell_type": "code",
   "execution_count": 39,
   "metadata": {},
   "outputs": [
    {
     "data": {
      "text/plain": [
       "'C:\\\\Users\\\\utilisateur\\\\Documents\\\\GitHub\\\\realestate-guillaume-nicos-pierre-silvia/models\\\\realestate-model-2020-18-03-16h21s-rmsle-0.197.pkl'"
      ]
     },
     "execution_count": 39,
     "metadata": {},
     "output_type": "execute_result"
    }
   ],
   "source": [
    "from glob import glob\n",
    "max(glob(path.join(model_dir, 'realestate-model-*.pkl')))"
   ]
  },
  {
   "cell_type": "markdown",
   "metadata": {},
   "source": [
    "## Export metrics and insertion in the BDD"
   ]
  },
  {
   "cell_type": "code",
   "execution_count": 40,
   "metadata": {},
   "outputs": [],
   "source": [
    "import mysql.connector\n",
    "def connectToDatabase():\n",
    "    return mysql.connector.connect(user='realestate', password='realestate',\n",
    "                              host='127.0.0.1',\n",
    "                              database='realestate')\n",
    "def createCursor(cnx):\n",
    "    return cnx.cursor(dictionary=True)\n",
    "def insertModelQuery(model_name,r2,rmse,rmsle, msle, mape):\n",
    "    return (\"INSERT INTO `models` (`model_name`, `r2`,`rmse`, `rmsle`,`msle`, `mape`) VALUES ('{}', '{}','{}', '{}','{}', '{}')\".format(model_name,r2,rmse,rmsle, msle, mape))\n",
    "def closeCursor(cursor):\n",
    "    cursor.close()\n",
    "def disconnectDatabase(cnx):\n",
    "    cnx.close()"
   ]
  },
  {
   "cell_type": "code",
   "execution_count": 41,
   "metadata": {},
   "outputs": [],
   "source": [
    "import glob\n",
    "\n",
    "cnx = connectToDatabase()\n",
    "for file in glob.glob(\"*.pkl\"):\n",
    "    cursor = createCursor(cnx)\n",
    "    cursor.execute(insertModelQuery(model_file_name,r2,rmse,rmsle, msle, mape))\n",
    "    cnx.commit()\n",
    "    closeCursor(cursor)\n",
    "disconnectDatabase(cnx)"
   ]
  },
  {
   "cell_type": "code",
   "execution_count": null,
   "metadata": {},
   "outputs": [],
   "source": []
  }
 ],
 "metadata": {
  "kernelspec": {
   "display_name": "Python 3",
   "language": "python",
   "name": "python3"
  },
  "language_info": {
   "codemirror_mode": {
    "name": "ipython",
    "version": 3
   },
   "file_extension": ".py",
   "mimetype": "text/x-python",
   "name": "python",
   "nbconvert_exporter": "python",
   "pygments_lexer": "ipython3",
   "version": "3.7.5"
  },
  "toc": {
   "base_numbering": "1",
   "nav_menu": {},
   "number_sections": true,
   "sideBar": true,
   "skip_h1_title": true,
   "title_cell": "Table of Contents",
   "title_sidebar": "Contents",
   "toc_cell": true,
   "toc_position": {},
   "toc_section_display": true,
   "toc_window_display": false
  }
 },
 "nbformat": 4,
 "nbformat_minor": 2
}
